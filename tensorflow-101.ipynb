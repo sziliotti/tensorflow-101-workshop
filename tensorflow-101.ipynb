{
  "nbformat": 4,
  "nbformat_minor": 0,
  "metadata": {
    "colab": {
      "name": "Copy of Untitled0.ipynb",
      "version": "0.3.2",
      "provenance": []
    },
    "kernelspec": {
      "name": "python3",
      "display_name": "Python 3"
    }
  },
  "cells": [
    {
      "metadata": {
        "id": "SMOjGljwu9x-",
        "colab_type": "code",
        "colab": {}
      },
      "cell_type": "code",
      "source": [
        "import tensorflow as tf\n",
        "from matplotlib import pyplot as plt\n",
        "import numpy as np"
      ],
      "execution_count": 0,
      "outputs": []
    },
    {
      "metadata": {
        "id": "T9K3C746vgj7",
        "colab_type": "code",
        "colab": {}
      },
      "cell_type": "code",
      "source": [
        "x = tf.Variable(3, name='x')\n",
        "y = tf.Variable(4, name='y')\n",
        "f = x*x*y+y+2"
      ],
      "execution_count": 0,
      "outputs": []
    },
    {
      "metadata": {
        "id": "j7W-Tt6Rv0FD",
        "colab_type": "code",
        "colab": {}
      },
      "cell_type": "code",
      "source": [
        "init = tf.global_variables_initializer()"
      ],
      "execution_count": 0,
      "outputs": []
    },
    {
      "metadata": {
        "id": "_g1XD4qgwuH5",
        "colab_type": "code",
        "colab": {
          "base_uri": "https://localhost:8080/",
          "height": 34
        },
        "outputId": "3113c91a-a361-48fc-8b1d-a4b4fe0e6ec0"
      },
      "cell_type": "code",
      "source": [
        "with tf.Session() as sess:\n",
        "  init.run()\n",
        "  result = f.eval()\n",
        "print(result)"
      ],
      "execution_count": 0,
      "outputs": [
        {
          "output_type": "stream",
          "text": [
            "42\n"
          ],
          "name": "stdout"
        }
      ]
    },
    {
      "metadata": {
        "id": "sZlRurdmw9rj",
        "colab_type": "code",
        "colab": {
          "base_uri": "https://localhost:8080/",
          "height": 499
        },
        "outputId": "fa311e9c-8e18-46fd-d365-d17117d6dbcd"
      },
      "cell_type": "code",
      "source": [
        "from tensorflow.examples.tutorials.mnist import input_data\n",
        "\n",
        "mnist = input_data.read_data_sets('MNIST_data')"
      ],
      "execution_count": 0,
      "outputs": [
        {
          "output_type": "stream",
          "text": [
            "WARNING:tensorflow:From <ipython-input-14-290733bba44d>:3: read_data_sets (from tensorflow.contrib.learn.python.learn.datasets.mnist) is deprecated and will be removed in a future version.\n",
            "Instructions for updating:\n",
            "Please use alternatives such as official/mnist/dataset.py from tensorflow/models.\n",
            "WARNING:tensorflow:From /usr/local/lib/python3.6/dist-packages/tensorflow/contrib/learn/python/learn/datasets/mnist.py:260: maybe_download (from tensorflow.contrib.learn.python.learn.datasets.base) is deprecated and will be removed in a future version.\n",
            "Instructions for updating:\n",
            "Please write your own downloading logic.\n",
            "WARNING:tensorflow:From /usr/local/lib/python3.6/dist-packages/tensorflow/contrib/learn/python/learn/datasets/base.py:252: _internal_retry.<locals>.wrap.<locals>.wrapped_fn (from tensorflow.contrib.learn.python.learn.datasets.base) is deprecated and will be removed in a future version.\n",
            "Instructions for updating:\n",
            "Please use urllib or similar directly.\n",
            "Successfully downloaded train-images-idx3-ubyte.gz 9912422 bytes.\n",
            "WARNING:tensorflow:From /usr/local/lib/python3.6/dist-packages/tensorflow/contrib/learn/python/learn/datasets/mnist.py:262: extract_images (from tensorflow.contrib.learn.python.learn.datasets.mnist) is deprecated and will be removed in a future version.\n",
            "Instructions for updating:\n",
            "Please use tf.data to implement this functionality.\n",
            "Extracting MNIST_data/train-images-idx3-ubyte.gz\n",
            "Successfully downloaded train-labels-idx1-ubyte.gz 28881 bytes.\n",
            "WARNING:tensorflow:From /usr/local/lib/python3.6/dist-packages/tensorflow/contrib/learn/python/learn/datasets/mnist.py:267: extract_labels (from tensorflow.contrib.learn.python.learn.datasets.mnist) is deprecated and will be removed in a future version.\n",
            "Instructions for updating:\n",
            "Please use tf.data to implement this functionality.\n",
            "Extracting MNIST_data/train-labels-idx1-ubyte.gz\n",
            "Successfully downloaded t10k-images-idx3-ubyte.gz 1648877 bytes.\n",
            "Extracting MNIST_data/t10k-images-idx3-ubyte.gz\n",
            "Successfully downloaded t10k-labels-idx1-ubyte.gz 4542 bytes.\n",
            "Extracting MNIST_data/t10k-labels-idx1-ubyte.gz\n",
            "WARNING:tensorflow:From /usr/local/lib/python3.6/dist-packages/tensorflow/contrib/learn/python/learn/datasets/mnist.py:290: DataSet.__init__ (from tensorflow.contrib.learn.python.learn.datasets.mnist) is deprecated and will be removed in a future version.\n",
            "Instructions for updating:\n",
            "Please use alternatives such as official/mnist/dataset.py from tensorflow/models.\n"
          ],
          "name": "stdout"
        }
      ]
    },
    {
      "metadata": {
        "id": "04AhPgXcyIjc",
        "colab_type": "code",
        "colab": {
          "base_uri": "https://localhost:8080/",
          "height": 364
        },
        "outputId": "45fba4f8-0782-4162-cfb3-5b55ee82fcd9"
      },
      "cell_type": "code",
      "source": [
        "batch_xs, batch_ys = mnist.test.next_batch(1)\n",
        "two_d = (np.reshape(batch_xs, (28, 28)) * 255).astype(np.uint8)\n",
        "plt.imshow(two_d, 'gray',interpolation='nearest')\n",
        "plt.show()\n",
        "print(batch_ys)"
      ],
      "execution_count": 0,
      "outputs": [
        {
          "output_type": "display_data",
          "data": {
            "image/png": "[encoded data removed]",
            "text/plain": [
              "<matplotlib.figure.Figure at 0x7f061b386cc0>"
            ]
          },
          "metadata": {
            "tags": []
          }
        },
        {
          "output_type": "stream",
          "text": [
            "[4]\n"
          ],
          "name": "stdout"
        }
      ]
    },
    {
      "metadata": {
        "id": "gIQmEpRGzYwr",
        "colab_type": "code",
        "colab": {}
      },
      "cell_type": "code",
      "source": [
        "def dense_layer(X, n_neurons, name, activation=None):\n",
        "    with tf.name_scope(name):\n",
        "        n_inputs = int(X.get_shape()[1])\n",
        "        #initializer = tf.contrib.layers.xavier_initializer()\n",
        "        init=tf.truncated_normal((n_inputs,n_neurons), stddev=2/np.sqrt(n_inputs))\n",
        "        w = tf.Variable(init, name=\"weights\")\n",
        "        b = tf.Variable(tf.zeros([n_neurons]), name = \"biases\")\n",
        "        z = tf.matmul(X, w) + b\n",
        "        if activation:\n",
        "            return tf.nn.relu(z)\n",
        "        else:\n",
        "            return z"
      ],
      "execution_count": 0,
      "outputs": []
    },
    {
      "metadata": {
        "id": "45Jx-hiP4mRk",
        "colab_type": "code",
        "colab": {}
      },
      "cell_type": "code",
      "source": [
        "X = tf.placeholder(tf.float32, (None, 28*28), name=\"X\")\n",
        "y = tf.placeholder(tf.int64, (None), name=\"y\")\n",
        "\n",
        "with tf.name_scope(\"dnn\"):\n",
        "  layer1 = dense_layer(X, 300, \"hidden1\", activation = True)\n",
        "  layer2 = dense_layer(layer1, 100, \"hidden2\", activation = True)\n",
        "  logits = dense_layer(layer2, 10, \"logits\")"
      ],
      "execution_count": 0,
      "outputs": []
    },
    {
      "metadata": {
        "id": "UPpxOqRF6PUG",
        "colab_type": "code",
        "colab": {}
      },
      "cell_type": "code",
      "source": [
        "with tf.name_scope(\"loss\"):\n",
        "    xentropy = tf.nn.sparse_softmax_cross_entropy_with_logits(labels=y, logits=logits)\n",
        "    loss = tf.reduce_mean(xentropy, name=\"loss\")"
      ],
      "execution_count": 0,
      "outputs": []
    },
    {
      "metadata": {
        "id": "0opnabMb7Mqx",
        "colab_type": "code",
        "colab": {}
      },
      "cell_type": "code",
      "source": [
        "with tf.name_scope(\"train\"):\n",
        "  learning_rate = 0.01\n",
        "  optimizer=tf.train.GradientDescentOptimizer(learning_rate)\n",
        "  training_op=optimizer.minimize(loss)"
      ],
      "execution_count": 0,
      "outputs": []
    },
    {
      "metadata": {
        "id": "S5RTNsjW9WPX",
        "colab_type": "code",
        "colab": {}
      },
      "cell_type": "code",
      "source": [
        "with tf.name_scope(\"eval\"):\n",
        "  correct= tf.nn.in_top_k(logits, y, 1)\n",
        "  accuracy = tf.reduce_mean(tf.cast(correct, tf.float32))\n",
        "  conf = tf.reduce_max(tf.nn.softmax(logits, axis=1), axis=1)\n",
        "\n",
        "  tf.summary.scalar(\"Accuracy\", accuracy)\n",
        "\n"
      ],
      "execution_count": 0,
      "outputs": []
    },
    {
      "metadata": {
        "id": "TLAc5ZsY-ilD",
        "colab_type": "code",
        "colab": {}
      },
      "cell_type": "code",
      "source": [
        "init = tf.global_variables_initializer()\n",
        "saver = tf.train.Saver()\n",
        "merged = tf.summary.merge_all()"
      ],
      "execution_count": 0,
      "outputs": []
    },
    {
      "metadata": {
        "id": "LVz78dIs-q7r",
        "colab_type": "code",
        "colab": {
          "base_uri": "https://localhost:8080/",
          "height": 697
        },
        "outputId": "7881bf8c-a054-43d9-9995-e0a993fdc6a8"
      },
      "cell_type": "code",
      "source": [
        "from datetime import datetime\n",
        "n_epochs = 40\n",
        "batch_size = 50\n",
        "\n",
        "with tf.Session() as sess:\n",
        "    # Cria os arquivos do tensorboard\n",
        "    now = datetime.utcnow()\n",
        "    train_writer = tf.summary.FileWriter('logdir/train-{}'.format(now),sess.graph)\n",
        "    test_writer = tf.summary.FileWriter('logdir/test-{}'.format(now))\n",
        "    \n",
        "    # Inicia as variáveis do tensorflow\n",
        "    init.run()\n",
        "    \n",
        "    for epoch in range(n_epochs):\n",
        "    \n",
        "        # Itera n baches do dataset\n",
        "        for iteration in range(mnist.train.num_examples//batch_size):\n",
        "            X_batch, y_batch=mnist.train.next_batch(batch_size)\n",
        "            sess.run(training_op,feed_dict={X:X_batch,y:y_batch})\n",
        "            \n",
        "        # Adiciona as métricas para o Tensorboar\n",
        "        train_writer.add_summary(merged.eval(feed_dict={X:X_batch,y:y_batch}),epoch)\n",
        "        test_writer.add_summary(merged.eval(feed_dict={X:mnist.test.images,y:mnist.test.labels}),epoch)\n",
        "\n",
        "        # Calcula métricas de acurácia para acompanhar o treinamento\n",
        "        acc_train=accuracy.eval(feed_dict={X:X_batch,y:y_batch})\n",
        "        acc_test=accuracy.eval(feed_dict={X:mnist.test.images,y:mnist.test.labels})\n",
        "        print(epoch,\"Train accuracy:\",acc_train,\"Test accuracy:\",acc_test)\n",
        "        \n",
        "        # Salva os checkpoits por cada Época\n",
        "        save_path=saver.save(sess,\"./logdir/my_model_final.ckpt\")"
      ],
      "execution_count": 0,
      "outputs": [
        {
          "output_type": "stream",
          "text": [
            "0 Train accuracy: 0.88 Test accuracy: 0.9069\n",
            "1 Train accuracy: 0.94 Test accuracy: 0.9277\n",
            "2 Train accuracy: 0.98 Test accuracy: 0.9377\n",
            "3 Train accuracy: 0.94 Test accuracy: 0.9427\n",
            "4 Train accuracy: 1.0 Test accuracy: 0.9483\n",
            "5 Train accuracy: 0.96 Test accuracy: 0.9531\n",
            "6 Train accuracy: 0.96 Test accuracy: 0.9546\n",
            "7 Train accuracy: 0.98 Test accuracy: 0.957\n",
            "8 Train accuracy: 0.98 Test accuracy: 0.9604\n",
            "9 Train accuracy: 0.96 Test accuracy: 0.9618\n",
            "10 Train accuracy: 0.96 Test accuracy: 0.9638\n",
            "11 Train accuracy: 0.96 Test accuracy: 0.9648\n",
            "12 Train accuracy: 1.0 Test accuracy: 0.9661\n",
            "13 Train accuracy: 1.0 Test accuracy: 0.9681\n",
            "14 Train accuracy: 0.96 Test accuracy: 0.9686\n",
            "15 Train accuracy: 0.96 Test accuracy: 0.9687\n",
            "16 Train accuracy: 0.98 Test accuracy: 0.9711\n",
            "17 Train accuracy: 0.98 Test accuracy: 0.9711\n",
            "18 Train accuracy: 0.96 Test accuracy: 0.971\n",
            "19 Train accuracy: 1.0 Test accuracy: 0.971\n",
            "20 Train accuracy: 0.98 Test accuracy: 0.9729\n",
            "21 Train accuracy: 1.0 Test accuracy: 0.973\n",
            "22 Train accuracy: 1.0 Test accuracy: 0.9728\n",
            "23 Train accuracy: 1.0 Test accuracy: 0.9735\n",
            "24 Train accuracy: 0.98 Test accuracy: 0.9738\n",
            "25 Train accuracy: 0.98 Test accuracy: 0.9735\n",
            "26 Train accuracy: 0.98 Test accuracy: 0.9735\n",
            "27 Train accuracy: 0.98 Test accuracy: 0.9745\n",
            "28 Train accuracy: 1.0 Test accuracy: 0.9745\n",
            "29 Train accuracy: 0.98 Test accuracy: 0.9763\n",
            "30 Train accuracy: 1.0 Test accuracy: 0.9734\n",
            "31 Train accuracy: 0.98 Test accuracy: 0.9758\n",
            "32 Train accuracy: 1.0 Test accuracy: 0.975\n",
            "33 Train accuracy: 1.0 Test accuracy: 0.9766\n",
            "34 Train accuracy: 0.98 Test accuracy: 0.9765\n",
            "35 Train accuracy: 0.98 Test accuracy: 0.9766\n",
            "36 Train accuracy: 1.0 Test accuracy: 0.9754\n",
            "37 Train accuracy: 1.0 Test accuracy: 0.9767\n",
            "38 Train accuracy: 1.0 Test accuracy: 0.9771\n",
            "39 Train accuracy: 1.0 Test accuracy: 0.9766\n"
          ],
          "name": "stdout"
        }
      ]
    },
    {
      "metadata": {
        "id": "TjvIkmzQART8",
        "colab_type": "code",
        "colab": {
          "base_uri": "https://localhost:8080/",
          "height": 381
        },
        "outputId": "53ca39eb-717d-4bc0-beb8-e8dd1ca629e7"
      },
      "cell_type": "code",
      "source": [
        "batch_xs, batch_ys = mnist.test.next_batch(1)\n",
        "\n",
        "with tf.Session() as sess:\n",
        "    saver.restore(sess, \"./logdir/my_model_final.ckpt\")\n",
        "    X_new_scaled=batch_xs\n",
        "    Z = logits.eval(feed_dict={X: X_new_scaled})\n",
        "    y_pred=np.argmax(Z, axis=1)\n",
        "    confidence = sess.run(tf.nn.softmax(Z, axis=1))\n",
        "\n",
        "print(\"Prediction: {} | Confidence: {}%\".format(y_pred[0],confidence[0][y_pred][0] * 100))\n",
        "    \n",
        "two_d = (np.reshape(batch_xs, (28, 28)) * 255).astype(np.uint8)\n",
        "plt.imshow(two_d, 'gray',interpolation='nearest')\n",
        "plt.show()"
      ],
      "execution_count": 0,
      "outputs": [
        {
          "output_type": "stream",
          "text": [
            "INFO:tensorflow:Restoring parameters from ./logdir/my_model_final.ckpt\n",
            "Prediction: 7 | Confidence: 99.97569918632507%\n"
          ],
          "name": "stdout"
        },
        {
          "output_type": "display_data",
          "data": {
            "image/png": "[encoded data removed]",
            "text/plain": [
              "<matplotlib.figure.Figure at 0x7f06180812b0>"
            ]
          },
          "metadata": {
            "tags": []
          }
        }
      ]
    },
    {
      "metadata": {
        "id": "2XUaEFqIFChP",
        "colab_type": "code",
        "colab": {}
      },
      "cell_type": "code",
      "source": [
        ""
      ],
      "execution_count": 0,
      "outputs": []
    }
  ]
}